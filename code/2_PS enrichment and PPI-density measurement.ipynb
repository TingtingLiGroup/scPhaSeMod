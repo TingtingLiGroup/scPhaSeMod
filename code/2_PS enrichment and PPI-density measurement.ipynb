{
 "cells": [
  {
   "cell_type": "markdown",
   "id": "56173ad9",
   "metadata": {},
   "source": [
    "# PS enrichment and PPI-density measurement of gene clusters --python\n",
    "# (data of pituitary as an example)"
   ]
  },
  {
   "cell_type": "markdown",
   "id": "5da3558f",
   "metadata": {},
   "source": [
    "## load packages "
   ]
  },
  {
   "cell_type": "code",
   "execution_count": null,
   "id": "b9ef2f27",
   "metadata": {},
   "outputs": [],
   "source": [
    "import pandas as pd\n",
    "import numpy as np\n",
    "import os,re\n",
    "import scipy.stats as stats\n",
    "import math\n",
    "import csv\n",
    "import pickle\n",
    "import random\n",
    "from tqdm import tqdm\n",
    "import os\n",
    "import warnings\n",
    "warnings.filterwarnings(\"ignore\")\n",
    "import matplotlib.pyplot as plt\n",
    "import sys\n",
    "\n",
    "import networkx as nx\n",
    "import json\n",
    "import networkx.algorithms.community as nx_comm\n",
    "import seaborn as sns\n",
    "from collections import defaultdict\n",
    "import gseapy\n",
    "from gseapy.plot import gseaplot"
   ]
  },
  {
   "cell_type": "markdown",
   "id": "41b609e8",
   "metadata": {},
   "source": [
    "## load data"
   ]
  },
  {
   "cell_type": "code",
   "execution_count": 3,
   "id": "6c46fdb8",
   "metadata": {},
   "outputs": [],
   "source": [
    "uni_gene = pd.read_csv('/data/uniprot_gene_saps.csv') \n",
    "gene_uni_dict={}\n",
    "for i in range(len(uni_gene)):\n",
    "    gene_uni_dict[uni_gene.iloc[i,5]] = uni_gene.iloc[i,1]"
   ]
  },
  {
   "cell_type": "code",
   "execution_count": 19,
   "id": "2d7a66cf",
   "metadata": {},
   "outputs": [],
   "source": [
    "path = '/data/gene_cluster/'\n",
    "files= os.listdir(path)\n",
    "celltp_clu_uni = {}\n",
    "celltp_clu_gene = {}\n",
    "for file in files:\n",
    "    celltype = file.split('_GeneOrder')[0]\n",
    "    file_clu = pd.read_csv(path+'/'+file)\n",
    "    file_clu = file_clu[file_clu['pearson']>0.8]\n",
    "    clu_gene = defaultdict(list)\n",
    "    clu_uni = defaultdict(list)\n",
    "    for i in range(len(file_clu)):\n",
    "        if file_clu.iloc[i,2] in gene_uni_dict:\n",
    "            clu_uni['cluster'+str(file_clu.iloc[i,3])].append(gene_uni_dict[file_clu.iloc[i,2]])\n",
    "            clu_gene['cluster'+str(file_clu.iloc[i,3])].append(file_clu.iloc[i,2])\n",
    "    celltp_clu_uni[celltype] = clu_uni\n",
    "    celltp_clu_gene[celltype] = clu_gene"
   ]
  },
  {
   "cell_type": "code",
   "execution_count": null,
   "id": "f98a6512",
   "metadata": {},
   "outputs": [],
   "source": [
    "human_ppi_f = pd.read_csv('/data/human_ppi_filter_exp_db.csv', index_col=0)"
   ]
  },
  {
   "cell_type": "markdown",
   "id": "ed0c33e0",
   "metadata": {},
   "source": [
    "## enrichment of proteins with high PS tendency"
   ]
  },
  {
   "cell_type": "code",
   "execution_count": null,
   "id": "7e8b1fb1",
   "metadata": {},
   "outputs": [],
   "source": [
    "data_df = uni_gene[['Gene','saps']]\n",
    "pre_df = pd.DataFrame(data=None,columns=['Name','Term','ES','NES','NOM p-val','FDR q-val','FWER p-val','Tag %','Gene %','Lead_genes'])\n",
    "for i in tqdm(celltp_clu_gene):\n",
    "    genesets = celltp_clu_gene[i]\n",
    "    pre_res = gseapy.prerank(rnk=data_df, gene_sets=genesets,\n",
    "                     processes=4,\n",
    "                     outdir='prerank_report_kegg', format='png', seed=6)\n",
    "    pre_res.res2d['cell type'] = i\n",
    "    pre_df = pre_df.append(pre_res.res2d,ignore_index=True)\n",
    "    pre_df.to_csv('/data/all_gene_pre_res_origin_80.csv')"
   ]
  },
  {
   "cell_type": "code",
   "execution_count": null,
   "id": "ef56c2e1",
   "metadata": {},
   "outputs": [],
   "source": [
    "cluster_gsea = cluster_gsea[cluster_gsea['NOM p-val']<0.05].reset_index(drop=True)\n",
    "\n",
    "cell_cluster_gsea = []\n",
    "for i in cluster_gsea.index:\n",
    "    cell_cluster_gsea.append(cluster_gsea.loc[i,'Term'])"
   ]
  },
  {
   "cell_type": "markdown",
   "id": "966ada82",
   "metadata": {},
   "source": [
    "## PPI density and max subset"
   ]
  },
  {
   "cell_type": "code",
   "execution_count": null,
   "id": "36e8bbac",
   "metadata": {},
   "outputs": [],
   "source": [
    "def count_commu(protein_set):\n",
    "\n",
    "    # all nodes\n",
    "    dataGO = human_ppi_f[(human_ppi_f['pro1_gene'].isin(protein_set))&(human_ppi_f['pro2_gene'].isin(protein_set))]\n",
    "\n",
    "    allnode = list(set(list(dataGO['pro1_gene'].values)+list(dataGO['pro2_gene'].values)))\n",
    "    alledges = [(dataGO.loc[i,'pro1_gene'],dataGO.loc[i,'pro2_gene']) for i in dataGO.index]\n",
    "\n",
    "    # build network\n",
    "    G = nx.Graph()\n",
    "    G.add_nodes_from(allnode)\n",
    "    G.add_edges_from(alledges)\n",
    "\n",
    "    # delete uncorrelated nodes\n",
    "    dele_node = [i for i in allnode if G.degree(i)==1 and i not in protein_set]\n",
    "    for exc in dele_node:\n",
    "        G.remove_node(exc)\n",
    "#     for c in nx.connected_components(G):\n",
    "#         print(c)\n",
    "    try:\n",
    "        av_clu = nx.average_clustering(G) # average clustering coeficients\n",
    "    except:\n",
    "        av_clu = -1\n",
    "    return av_clu"
   ]
  },
  {
   "cell_type": "code",
   "execution_count": null,
   "id": "f2320b80",
   "metadata": {},
   "outputs": [],
   "source": [
    "def count_subnet(protein_set):\n",
    "    \n",
    "    # all nodes\n",
    "    dataGO = human_ppi_f[(human_ppi_f['pro1_gene'].isin(protein_set))&(human_ppi_f['pro2_gene'].isin(protein_set))]\n",
    "\n",
    "\n",
    "    allnode = list(set(list(dataGO['pro1_gene'].values)+list(dataGO['pro2_gene'].values)))\n",
    "    alledges = [(dataGO.loc[i,'pro1_gene'],dataGO.loc[i,'pro2_gene']) for i in dataGO.index]\n",
    "\n",
    "    # build network\n",
    "    G = nx.Graph()\n",
    "    G.add_nodes_from(allnode)\n",
    "    G.add_edges_from(alledges)\n",
    "\n",
    "    # delete uncorrelated nodes\n",
    "    dele_node = [i for i in allnode if G.degree(i)==1 and i not in protein_set]\n",
    "    for exc in dele_node:\n",
    "        G.remove_node(exc)\n",
    "    try:\n",
    "        largest_cc = list(max(nx.connected_components(G), key=len)) # max_sub\n",
    "    except:\n",
    "        av_clu = -1\n",
    "    return largest_cc"
   ]
  },
  {
   "cell_type": "code",
   "execution_count": null,
   "id": "dfe68d1d",
   "metadata": {},
   "outputs": [],
   "source": [
    "# 计算平均 PPI density\n",
    "cell_clu_avgclu = []\n",
    "for i in cell_cluster_gsea:\n",
    "    print(i)\n",
    "    if len(celltp_clu_gene1[i])>20:\n",
    "        avg_clu = count_commu(celltp_clu_gene1[i])\n",
    "        if avg_clu >0.3:\n",
    "            cell_clu_avgclu.append(i)\n",
    "    print('-----')"
   ]
  },
  {
   "cell_type": "code",
   "execution_count": null,
   "id": "3c8dcd88",
   "metadata": {},
   "outputs": [],
   "source": [
    "cell_geneset_subnet = {}\n",
    "for ct in tqdm(cell_clu_avgclu):\n",
    "    cell_geneset_subnet[ct] = count_subnet(celltp_clu_gene1[ct])"
   ]
  },
  {
   "cell_type": "markdown",
   "id": "0acc79ad",
   "metadata": {},
   "source": [
    "## functional enrichment"
   ]
  },
  {
   "cell_type": "code",
   "execution_count": null,
   "id": "931626ba",
   "metadata": {},
   "outputs": [],
   "source": [
    "for i in tqdm(cell_geneset_subnet):\n",
    "    genelist = cell_geneset_subnet[i]\n",
    "#     gene_sets=['GO_Biological_Process_2023']  # or other gene_sets, https://maayanlab.cloud/Enrichr/#libraries\n",
    "    gene_sets = 'data/c5.go.bp.v2023.1.Hs.symbols.gmt' \n",
    "\n",
    "    enr = gp.enrichr(gene_list=genelist,\n",
    "             gene_sets=gene_sets,\n",
    "             organism='Human',  # don't forget to set organism to the one you desired! e.g. Yeast\n",
    "             outdir= None,\n",
    "             cutoff=1,  # test dataset, use lower value from range(0,1)\n",
    "            )\n",
    "    enr.results.Term = enr.results.Term.apply(lambda x: x[5:].replace('_', ' '))\n",
    "    export_path = 'data/PS_module/'+i+'_GO_2023.csv'\n",
    "    enr.results.to_csv(export_path)"
   ]
  }
 ],
 "metadata": {
  "kernelspec": {
   "display_name": "py38",
   "language": "python",
   "name": "py38"
  },
  "language_info": {
   "codemirror_mode": {
    "name": "ipython",
    "version": 3
   },
   "file_extension": ".py",
   "mimetype": "text/x-python",
   "name": "python",
   "nbconvert_exporter": "python",
   "pygments_lexer": "ipython3",
   "version": "3.8.18"
  },
  "toc": {
   "base_numbering": 1,
   "nav_menu": {},
   "number_sections": true,
   "sideBar": true,
   "skip_h1_title": true,
   "title_cell": "Table of Contents",
   "title_sidebar": "Contents",
   "toc_cell": false,
   "toc_position": {},
   "toc_section_display": true,
   "toc_window_display": false
  }
 },
 "nbformat": 4,
 "nbformat_minor": 5
}
