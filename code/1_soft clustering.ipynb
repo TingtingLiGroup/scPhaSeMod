{
 "cells": [
  {
   "cell_type": "markdown",
   "id": "754e62b5",
   "metadata": {},
   "source": [
    "# soft clustering for genes --R\n",
    "# (data of pituitary as an example) "
   ]
  },
  {
   "cell_type": "markdown",
   "id": "9d9732a8",
   "metadata": {},
   "source": [
    "## library packages and load data"
   ]
  },
  {
   "cell_type": "code",
   "execution_count": null,
   "id": "31335375",
   "metadata": {},
   "outputs": [],
   "source": [
    "library(Seurat)\n",
    "library(Matrix)\n",
    "library(stringr)\n",
    "library(SeuratDisk)\n",
    "library(Mfuzz)\n",
    "library(dplyr)\n",
    "\n",
    "#detach(\"package:monocle3\")"
   ]
  },
  {
   "cell_type": "code",
   "execution_count": 4,
   "id": "8a2d4b99",
   "metadata": {},
   "outputs": [],
   "source": [
    "work_dir = \"scPhaSeMod/\"\n",
    "setwd(work_dir)"
   ]
  },
  {
   "cell_type": "code",
   "execution_count": 2,
   "id": "b8f0369b",
   "metadata": {},
   "outputs": [],
   "source": [
    "scRNA1 = readRDS('/data/pituitary.rds')"
   ]
  },
  {
   "cell_type": "code",
   "execution_count": 4,
   "id": "7d434f60",
   "metadata": {},
   "outputs": [
    {
     "data": {
      "text/html": [
       "<style>\n",
       ".list-inline {list-style: none; margin:0; padding: 0}\n",
       ".list-inline>li {display: inline-block}\n",
       ".list-inline>li:not(:last-child)::after {content: \"\\00b7\"; padding: 0 .5ex}\n",
       "</style>\n",
       "<ol class=list-inline><li>'CC'</li><li>'Corticotrope'</li><li>'EC'</li><li>'Gonadotrope'</li><li>'Imm'</li><li>'Lactotrope'</li><li>'MC'</li><li>'PP'</li><li>'Pre.Gonado'</li><li>'Pro.PIT1'</li><li>'RBC'</li><li>'Somatotrope'</li><li>'Stem'</li><li>'Thyrotrope'</li></ol>\n"
      ],
      "text/latex": [
       "\\begin{enumerate*}\n",
       "\\item 'CC'\n",
       "\\item 'Corticotrope'\n",
       "\\item 'EC'\n",
       "\\item 'Gonadotrope'\n",
       "\\item 'Imm'\n",
       "\\item 'Lactotrope'\n",
       "\\item 'MC'\n",
       "\\item 'PP'\n",
       "\\item 'Pre.Gonado'\n",
       "\\item 'Pro.PIT1'\n",
       "\\item 'RBC'\n",
       "\\item 'Somatotrope'\n",
       "\\item 'Stem'\n",
       "\\item 'Thyrotrope'\n",
       "\\end{enumerate*}\n"
      ],
      "text/markdown": [
       "1. 'CC'\n",
       "2. 'Corticotrope'\n",
       "3. 'EC'\n",
       "4. 'Gonadotrope'\n",
       "5. 'Imm'\n",
       "6. 'Lactotrope'\n",
       "7. 'MC'\n",
       "8. 'PP'\n",
       "9. 'Pre.Gonado'\n",
       "10. 'Pro.PIT1'\n",
       "11. 'RBC'\n",
       "12. 'Somatotrope'\n",
       "13. 'Stem'\n",
       "14. 'Thyrotrope'\n",
       "\n",
       "\n"
      ],
      "text/plain": [
       " [1] \"CC\"           \"Corticotrope\" \"EC\"           \"Gonadotrope\"  \"Imm\"         \n",
       " [6] \"Lactotrope\"   \"MC\"           \"PP\"           \"Pre.Gonado\"   \"Pro.PIT1\"    \n",
       "[11] \"RBC\"          \"Somatotrope\"  \"Stem\"         \"Thyrotrope\"  "
      ]
     },
     "metadata": {},
     "output_type": "display_data"
    },
    {
     "name": "stdout",
     "output_type": "stream",
     "text": [
      "[1] 14\n"
     ]
    }
   ],
   "source": [
    "scRNA1@meta.data$cell_type %>% as.vector() %>% unique() %>% sort() -> celltypes\n",
    "\n",
    "celltypes\n",
    "print(length(celltypes))"
   ]
  },
  {
   "cell_type": "code",
   "execution_count": null,
   "id": "8e23fe63",
   "metadata": {},
   "outputs": [],
   "source": [
    "for(i in 1:length(celltypes)){\n",
    "    celltype <- celltypes[i]\n",
    "    if(!dir.exists(path=paste0(\"./gene_cluster/\",celltype,'/'))){\n",
    "        dir.create(path=paste0(\"./gene_cluster/\",celltype,'/'))\n",
    "    }\n",
    "}"
   ]
  },
  {
   "cell_type": "markdown",
   "id": "f4950477",
   "metadata": {},
   "source": [
    "## soft clustering and draw expression trends"
   ]
  },
  {
   "cell_type": "code",
   "execution_count": 14,
   "id": "cb6eee28",
   "metadata": {},
   "outputs": [],
   "source": [
    "mfuzz_analysis <- function(celltype,cluster_num,showDF=TRUE,save=FALSE,showPic=TRUE){\n",
    "    mean_raw <- read.csv(paste0(\"./data/expression_mean/timepoint_mean_data_\",celltype,\".csv\"),row.names=1,check.names = FALSE)\n",
    "    vars <- VariableFeatures(scRNA1) %>% as.vector()\n",
    "    mean_expr <- mean_raw[vars,][order(vars),]\n",
    "    if(showDF){\n",
    "        mean_expr %>% head(., 3) %>% print()\n",
    "        dim(mean_expr) %>% print()}\n",
    "    options(repr.plot.width=7, repr.plot.height=7)\n",
    "    mfuzz_ <- as.matrix(mean_expr)\n",
    "    mfuzz_class <- new('ExpressionSet',exprs = mfuzz_)\n",
    "    \n",
    "    options(repr.plot.height=7,repr.plot.width=7)\n",
    "    #预处理缺失值或者异常值\n",
    "    mfuzz_class <- filter.NA(mfuzz_class, thres = 0.25)\n",
    "    mfuzz_class <- fill.NA(mfuzz_class, mode = 'knn') \n",
    "    mfuzz_class <- filter.std(mfuzz_class, min.std = 0)\n",
    "\n",
    "    mfuzz_class <- standardise(mfuzz_class)\n",
    "\n",
    "    set.seed(321)\n",
    "    mest <- mestimate(mfuzz_class)\n",
    "    mfuzz_cluster <- mfuzz(mfuzz_class, c = cluster_num, m = mest)\n",
    "    mfuzz_cluster$size %>% print()\n",
    "    \n",
    "    color<-c('#F2EFF8','#F2EFF8','#EAE1F2','#EFD8E0','#90A4AE')\n",
    "    if(showPic){\n",
    "        options(repr.plot.width=15, repr.plot.height=20)\n",
    "        mfuzz.plot2(mfuzz_class, cl = mfuzz_cluster, x11=FALSE, mfrow = c(4,2),time.labels = colnames(mfuzz_), \n",
    "                    cex.axis = 2, cex.lab = 2, cex.main = 2, centre=TRUE, centre.lwd=5,\n",
    "                    centre.col = '#b56a6f',colo=color)\n",
    "    }\n",
    "    if(save){\n",
    "        paste0(\"./figures/\",celltype,\"_cl\",cluster_num,\".pdf\") %>% pdf(width = 20,height = 30)\n",
    "        options(repr.plot.width=15, repr.plot.height=20)\n",
    "        mfuzz.plot2(mfuzz_class, cl = mfuzz_cluster, x11=FALSE, mfrow = c(4,2),time.labels = colnames(mfuzz_), \n",
    "            cex.axis = 2, cex.lab = 2, cex.main = 2, centre=TRUE, centre.lwd=5, centre.col = '#b56a6f',colo=color)\n",
    "        dev.off()\n",
    "    }\n",
    "    \n",
    "    mfuzz_result <- vector('list',length=3)\n",
    "    mfuzz_result[[1]] <- mfuzz_\n",
    "    mfuzz_result[[2]] <- mfuzz_cluster\n",
    "    mfuzz_result[[3]] <- mfuzz_class\n",
    "    return(mfuzz_result)\n",
    "}"
   ]
  },
  {
   "cell_type": "markdown",
   "id": "fbf25597",
   "metadata": {},
   "source": [
    "## geneorder within each gene cluster "
   ]
  },
  {
   "cell_type": "code",
   "execution_count": 15,
   "id": "3b84128b",
   "metadata": {},
   "outputs": [],
   "source": [
    "mfuzz_geneOrder <- function(mfuzz_result,celltype,pearson.prop,showDF=TRUE,save=FALSE){\n",
    "    mfuzz_ <- mfuzz_result[[1]]\n",
    "    mfuzz_cluster <- mfuzz_result[[2]]\n",
    "    mfuzz_class <- mfuzz_result[[3]]\n",
    "    \n",
    "    mfuzz_cluster_results <- as.data.frame(mfuzz_cluster$cluster)\n",
    "    colnames(mfuzz_cluster_results) <- c(\"mfuzz_cluster\")\n",
    "\n",
    "    mfuzz_center_score <- mfuzz_cluster$membership %>% as.data.frame()\n",
    "    colnames(mfuzz_center_score) <- paste(\"cluster_\",(colnames(mfuzz_center_score) %>% as.vector()))\n",
    "    mfuzz_center_score$cluster <- mfuzz_cluster_results$mfuzz_cluster %>% as.vector()\n",
    "    if(showDF){\n",
    "        print(\"mfuzz_center_score:\")\n",
    "        head(mfuzz_center_score,3) %>% print()}\n",
    "\n",
    "    cluster <- mfuzz_cluster$cluster\n",
    "    cluster <- cbind(mfuzz_[names(cluster), ], cluster)\n",
    "    cluster <- as.data.frame(cluster)\n",
    "    if(showDF){\n",
    "        print(\"cluster:\")\n",
    "        head(cluster,3) %>% print()}\n",
    "\n",
    "    standard_expr <- mfuzz_class@assayData$exprs %>% as.data.frame()\n",
    "    standard_expr[\"cluster\"] <- cluster$cluster %>% as.vector()\n",
    "    if(showDF){\n",
    "        print(\"standard_expr:\")\n",
    "        head(standard_expr,3) %>% print()}\n",
    "    centers_ <- mfuzz_cluster$centers %>% as.data.frame()\n",
    "    cluster_num <- length(colnames(mfuzz_center_score)) - 1\n",
    "    if(showDF){\n",
    "        print(\"centers:\")\n",
    "        centers_ %>% print()}\n",
    "\n",
    "    vector_list <- vector(\"list\", length = dim(centers_)[1])\n",
    "    vector_list_cluster <- vector(\"list\", length = dim(centers_)[1])\n",
    "    for (i in 1:length(vector_list)) {\n",
    "        Centers1 <- centers_[rownames(centers_) == i, ]\n",
    "        t(as.matrix(Centers1)) %>% as.data.frame() -> vector_list[[i]]\n",
    "\n",
    "        Centers2 <- standard_expr[standard_expr$cluster ==i, -dim(standard_expr)[2] ]\n",
    "        Centers2 <- as.matrix(Centers2) %>% t() %>% as.data.frame() -> vector_list_cluster[[i]]\n",
    "    }\n",
    "\n",
    "    final_result <- data.frame()\n",
    "    for (x in 1:length(vector_list)) {\n",
    "        result <- c()\n",
    "        for (i in 1:length(colnames(vector_list_cluster[[x]]))){\n",
    "            result <- c(result, cor(vector_list_cluster[[x]][, i], vector_list[[x]][,1],\n",
    "                            method = \"pearson\") %>% round(., 2))\n",
    "            # pearson correlation as a score for centers\n",
    "        }\n",
    "        df_pearson <- data.frame(pearson = result,\n",
    "                                 gene = colnames(vector_list_cluster[[x]]),\n",
    "                                 cluster = rep(x,length(result)))\n",
    "        df_pearson <- df_pearson[order(df_pearson$pearson, decreasing = T),]\n",
    "        final_result <- rbind(final_result, df_pearson)\n",
    "    }\n",
    "    if(showDF){\n",
    "        print(\"final_result:\")\n",
    "        head(final_result,3) %>% print()}\n",
    "\n",
    "    plot(pearson~cluster, data=final_result)\n",
    "    boxplot(pearson~cluster,data=final_result)\n",
    "\n",
    "    final_result %>% group_by(cluster) %>%\n",
    "    slice_max(., order_by = pearson, prop = pearson.prop) %>% as.data.frame() -> tmp\n",
    "    print(\"Table of clusters:\")\n",
    "    tmp$cluster %>% table() %>% print()\n",
    "    plot(pearson~cluster ,data=tmp)\n",
    "    paste0(\"Pearson Prop: \",pearson.prop,\"    The minimal pearson correlation: \",min(tmp$pearson)) %>% print()\n",
    "    if(save){\n",
    "        write.csv(final_result,paste0('.data/gene_cluster/',celltype,'/',celltype,'_GeneOrder_origin.csv'))\n",
    "        paste0('.data/gene_cluster/',celltype,'/',celltype,'_GeneOrder_origin.csv') %>% print()\n",
    "    }\n",
    "    return(final_result)\n",
    "}"
   ]
  },
  {
   "cell_type": "markdown",
   "id": "d9f07f9d",
   "metadata": {},
   "source": [
    "## run and output"
   ]
  },
  {
   "cell_type": "code",
   "execution_count": null,
   "id": "f4d9019c",
   "metadata": {},
   "outputs": [],
   "source": [
    "for(j in 1:length(celltypes)){\n",
    "    celltype <- celltypes[j]\n",
    "    print(celltype)\n",
    "    cn = 16\n",
    "    mfuzz_result <- mfuzz_analysis(celltype = celltype,cluster_num = cn,showDF=FALSE,save = TRUE,showPic = FALSE)\n",
    "    mfuzz_cluster <- mfuzz_result[[2]]\n",
    "    #paste0(\"./mfuzz_cluster/\",celltype,'/mfuzz_',celltype,'_cl',cn,'_origin.rds') %>% saveRDS(mfuzz_cluster,file=.)\n",
    "    #paste0(\"./mfuzz_cluster/\",celltype,'/mfuzz_',celltype,'_cl',cn,'_origin.rds  SAVED!') %>% print()\n",
    "}"
   ]
  },
  {
   "cell_type": "code",
   "execution_count": null,
   "id": "5ee1839d",
   "metadata": {},
   "outputs": [],
   "source": [
    "mfuzz_geneOrder(mfuzz_result,celltype = celltype,pearson.prop = 0.4,showDF = FALSE,save=TRUE) -> final_result"
   ]
  },
  {
   "cell_type": "code",
   "execution_count": null,
   "id": "cc542472",
   "metadata": {},
   "outputs": [],
   "source": []
  }
 ],
 "metadata": {
  "kernelspec": {
   "display_name": "r314",
   "language": "R",
   "name": "ir314"
  },
  "language_info": {
   "codemirror_mode": "r",
   "file_extension": ".r",
   "mimetype": "text/x-r-source",
   "name": "R",
   "pygments_lexer": "r",
   "version": "4.1.3"
  },
  "toc": {
   "base_numbering": 1,
   "nav_menu": {},
   "number_sections": true,
   "sideBar": true,
   "skip_h1_title": true,
   "title_cell": "Table of Contents",
   "title_sidebar": "Contents",
   "toc_cell": false,
   "toc_position": {},
   "toc_section_display": true,
   "toc_window_display": false
  }
 },
 "nbformat": 4,
 "nbformat_minor": 5
}
